{
 "cells": [
  {
   "cell_type": "code",
   "execution_count": 34,
   "id": "4ac8336d",
   "metadata": {},
   "outputs": [],
   "source": [
    "import serial\n",
    "import threading\n",
    "import sys\n",
    "import pandas as pd \n",
    "import matplotlib.pyplot as plt\n",
    "import time\n",
    "from IPython.display import clear_output\n",
    "import requests\n",
    "from io import StringIO"
   ]
  },
  {
   "cell_type": "code",
   "execution_count": 32,
   "id": "c28d061c",
   "metadata": {},
   "outputs": [],
   "source": [
    "\"\"\"\n",
    "STK500 implementation to bypass Arduino Bootloader\n",
    "\"\"\"\n",
    "STK_OK = 0x10\n",
    "STK_INSYNC = 0x14\n",
    "STK_GET_SYNC = 0x30\n",
    "STK_LEAVE_PROGMODE = 0x51\n",
    "CRC_EOP = 0x20\n",
    "\n",
    "def STK500_arduino_connection(port, baudrate=9600):\n",
    "    '''bypasses Arduino bootloader and makes Serial port connection'''\n",
    "    print(\"Opening serial port\")\n",
    "    ser = serial.Serial(port,baudrate, timeout=2)\n",
    "    print(\"Port Opened Successfully\")\n",
    "    \n",
    "    print(\"resetting Arduino DTR \")\n",
    "    ser.setDTR(False)\n",
    "    time.sleep(0.1)\n",
    "    ser.setDTR(True)\n",
    "    time.sleep(0.1)\n",
    "    ser.setDTR(False)\n",
    "    print(\"DTR reset\")\n",
    "    \n",
    "    print(\"Waiting for Bootloader...\")\n",
    "    time.sleep(1.5)\n",
    "    print(\"Booloader active\")\n",
    "    \n",
    "    print(\"Clearing serial buffers...\")\n",
    "    ser.reset_input_buffer()\n",
    "    ser.reset_output_buffer()\n",
    "    print(\"Buffers cleared\")\n",
    "    \n",
    "    print(\"Attempting STK500 sync\")\n",
    "    sync_success = False\n",
    "    \n",
    "    for attempt in range(10):\n",
    "        print(f\"sync attempt {attempt+1}/10...\")\n",
    "        \n",
    "        command = bytes([STK_GET_SYNC, CRC_EOP])\n",
    "        ser.write(command)\n",
    "        print(f\"    SENT: {command.hex().upper()}\")\n",
    "        time.sleep(0.1)\n",
    "        \n",
    "        if ser.in_waiting >= 2:\n",
    "            response = ser.read(2)\n",
    "            print(f\"    Received: {response.hex().upper()}\")\n",
    "            \n",
    "            if response == bytes([STK_INSYNC, STK_OK]):\n",
    "                Print(\"STK500 sync SUCCESS\")\n",
    "                sync_success = True\n",
    "                break\n",
    "            else:\n",
    "                print(f\"unexpected response: {response.hex()}\")\n",
    "        else:\n",
    "            print(\"No response received\")\n",
    "        \n",
    "        time.sleep(0.1)\n",
    "        if not sync_success:\n",
    "            print(\"STK500 sync failed\")\n",
    "            ser.close()\n",
    "            return False\n",
    "        \n",
    "        print(\"Exiting programming mode...\")\n",
    "        command = bytes([STK_LEAVE_PROGMODE, CRC_EOP])\n",
    "        ser.write(command)\n",
    "        print(f\"    Sent: {command.hex().upper()}\")\n",
    "        \n",
    "        time.sleep(0.1)\n",
    "        if ser.in_waiting >=2:\n",
    "            response = ser.read(2)\n",
    "            print(f\"    Received: {response.hex().upper()}\")\n",
    "            \n",
    "            if response == bytes([STK_INSYNC, STK_OK]):\n",
    "                print(\"exited programming mode\")\n",
    "            else:\n",
    "                print(f\"unexpected response: {response.hex()}\")\n",
    "            time.sleep(0.5)\n",
    "            \n",
    "            if ser.in_waiting > 0:\n",
    "                garbage = ser.read(ser.in_waiting)\n",
    "                print(\"cleared remaining bootloader data\")\n",
    "            \n",
    "            print(\"Arduino should now be running user program\")\n",
    "            \n",
    "            return ser"
   ]
  },
  {
   "cell_type": "code",
   "execution_count": 42,
   "id": "a419e3b7",
   "metadata": {},
   "outputs": [
    {
     "name": "stdout",
     "output_type": "stream",
     "text": [
      "Opening serial port\n",
      "Port Opened Successfully\n",
      "resetting Arduino DTR \n",
      "DTR reset\n",
      "Waiting for Bootloader...\n",
      "Booloader active\n",
      "Clearing serial buffers...\n",
      "Buffers cleared\n",
      "Attempting STK500 sync\n",
      "sync attempt 1/10...\n",
      "    SENT: 3020\n",
      "No response received\n",
      "STK500 sync failed\n"
     ]
    },
    {
     "data": {
      "text/plain": [
       "False"
      ]
     },
     "execution_count": 42,
     "metadata": {},
     "output_type": "execute_result"
    }
   ],
   "source": [
    "STK500_arduino_connection('COM3', 9600)"
   ]
  },
  {
   "cell_type": "code",
   "execution_count": 24,
   "id": "74a9303a",
   "metadata": {},
   "outputs": [],
   "source": [
    "#issues with bypassing bootloader on Arduino -- circle back\n",
    "\n",
    "class ArduinoMonitor:\n",
    "    def __init__(self, port='COM3', baud=9600):\n",
    "        '''defines serial port connection'''\n",
    "        self.ser = serial.Serial(port,baud)  #open port COM3\n",
    "        ser.dtr = False\n",
    "        self.data = [] #initiate array\n",
    "        self.running = False #monitoring base condtion\n",
    "        self.thread = None #threading?\n",
    "        \n",
    "    def start_monitoring(self):\n",
    "        '''monitor wrapping function with paralell call to monitor loop'''\n",
    "        self.running = True #turn boolean on\n",
    "        self.thread = threading.Thread(target=self._monitor_loop) #internal ref call? -- always looking for port outputs\n",
    "        self.thread.daemon = True #dies when nb shuts down? needed for management?\n",
    "        self.thread.start() #turns on port monitor?\n",
    "        print(\"Monitoring Started...\")\n",
    "    \n",
    "    def stop_monitoring(self):\n",
    "        '''spins down monitor loop and closes wrapper'''\n",
    "        self.running = False #turn boolean off\n",
    "        if self.thread:\n",
    "            self.thread.join() #shuts down paralell process of the port monitor loop\n",
    "        print(\"Monitoring Stopped.\")\n",
    "        \n",
    "    def _monitor_loop(self):\n",
    "        '''looped process inside monitoring casing returning formatted array populated with CSV data'''\n",
    "        while self.running:\n",
    "            if self.ser.in_waiting: #logical -- Serial condition waiting for output from port\n",
    "                line = self.ser.readline().decode().strip() #bitwise operations?\n",
    "                if ',' in line and line != \"Microseconds,ADC,Voltage\":\n",
    "                    try:\n",
    "                        parts = line.split(',')\n",
    "                        timestamp = float(parts[0])\n",
    "                        adc = int(parts[1])\n",
    "                        voltage = float(parts[2])\n",
    "                        self.data.append([timestamp, adc, voltage]) #parse acc to CSV format -- Parts is cool\n",
    "                    except:\n",
    "                        pass #skip bad lines\n",
    "            time.sleep(0.001) #small delay\n",
    "            \n",
    "    def get_dataframe(self):\n",
    "        '''formatted array to dataframe'''\n",
    "        return pd.DataFrame(self.data, columns=['Microseconds', 'ADC', 'Voltage'])\n",
    "    \n",
    "    def trigger_capture(self):\n",
    "        '''trigger data dump on serial port'''\n",
    "        self.ser.write(b'p')\n",
    "        \n",
    "    def reset_arduino(self):\n",
    "        '''trigger reset on serial port -- should propagate to arduino IDE'''\n",
    "        self.ser.write(b'r')\n",
    "        \n",
    "        "
   ]
  },
  {
   "cell_type": "code",
   "execution_count": 25,
   "id": "93cd9b70",
   "metadata": {},
   "outputs": [
    {
     "ename": "SerialException",
     "evalue": "could not open port 'COM3': PermissionError(13, 'Access is denied.', None, 5)",
     "output_type": "error",
     "traceback": [
      "\u001b[1;31m---------------------------------------------------------------------------\u001b[0m",
      "\u001b[1;31mSerialException\u001b[0m                           Traceback (most recent call last)",
      "Cell \u001b[1;32mIn[25], line 1\u001b[0m\n\u001b[1;32m----> 1\u001b[0m monitor  \u001b[38;5;241m=\u001b[39m \u001b[43mArduinoMonitor\u001b[49m\u001b[43m(\u001b[49m\u001b[38;5;124;43m'\u001b[39;49m\u001b[38;5;124;43mCOM3\u001b[39;49m\u001b[38;5;124;43m'\u001b[39;49m\u001b[43m,\u001b[49m\u001b[43m \u001b[49m\u001b[38;5;241;43m9600\u001b[39;49m\u001b[43m)\u001b[49m\n\u001b[0;32m      2\u001b[0m \u001b[38;5;28mprint\u001b[39m(monitor\u001b[38;5;241m.\u001b[39mget_dataframe)\n",
      "Cell \u001b[1;32mIn[24], line 4\u001b[0m, in \u001b[0;36mArduinoMonitor.__init__\u001b[1;34m(self, port, baud)\u001b[0m\n\u001b[0;32m      2\u001b[0m \u001b[38;5;28;01mdef\u001b[39;00m \u001b[38;5;21m__init__\u001b[39m(\u001b[38;5;28mself\u001b[39m, port\u001b[38;5;241m=\u001b[39m\u001b[38;5;124m'\u001b[39m\u001b[38;5;124mCOM3\u001b[39m\u001b[38;5;124m'\u001b[39m, baud\u001b[38;5;241m=\u001b[39m\u001b[38;5;241m9600\u001b[39m):\n\u001b[0;32m      3\u001b[0m \u001b[38;5;250m    \u001b[39m\u001b[38;5;124;03m'''defines serial port connection'''\u001b[39;00m\n\u001b[1;32m----> 4\u001b[0m     \u001b[38;5;28mself\u001b[39m\u001b[38;5;241m.\u001b[39mser \u001b[38;5;241m=\u001b[39m \u001b[43mserial\u001b[49m\u001b[38;5;241;43m.\u001b[39;49m\u001b[43mSerial\u001b[49m\u001b[43m(\u001b[49m\u001b[43mport\u001b[49m\u001b[43m,\u001b[49m\u001b[43mbaud\u001b[49m\u001b[43m)\u001b[49m  \u001b[38;5;66;03m#open port COM3\u001b[39;00m\n\u001b[0;32m      5\u001b[0m     ser\u001b[38;5;241m.\u001b[39mdtr \u001b[38;5;241m=\u001b[39m \u001b[38;5;28;01mFalse\u001b[39;00m\n\u001b[0;32m      6\u001b[0m     \u001b[38;5;28mself\u001b[39m\u001b[38;5;241m.\u001b[39mdata \u001b[38;5;241m=\u001b[39m [] \u001b[38;5;66;03m#initiate array\u001b[39;00m\n",
      "File \u001b[1;32m~\\AppData\\Local\\Programs\\Python\\Python311\\Lib\\site-packages\\serial\\serialwin32.py:33\u001b[0m, in \u001b[0;36mSerial.__init__\u001b[1;34m(self, *args, **kwargs)\u001b[0m\n\u001b[0;32m     31\u001b[0m \u001b[38;5;28mself\u001b[39m\u001b[38;5;241m.\u001b[39m_overlapped_read \u001b[38;5;241m=\u001b[39m \u001b[38;5;28;01mNone\u001b[39;00m\n\u001b[0;32m     32\u001b[0m \u001b[38;5;28mself\u001b[39m\u001b[38;5;241m.\u001b[39m_overlapped_write \u001b[38;5;241m=\u001b[39m \u001b[38;5;28;01mNone\u001b[39;00m\n\u001b[1;32m---> 33\u001b[0m \u001b[38;5;28;43msuper\u001b[39;49m\u001b[43m(\u001b[49m\u001b[43mSerial\u001b[49m\u001b[43m,\u001b[49m\u001b[43m \u001b[49m\u001b[38;5;28;43mself\u001b[39;49m\u001b[43m)\u001b[49m\u001b[38;5;241;43m.\u001b[39;49m\u001b[38;5;21;43m__init__\u001b[39;49m\u001b[43m(\u001b[49m\u001b[38;5;241;43m*\u001b[39;49m\u001b[43margs\u001b[49m\u001b[43m,\u001b[49m\u001b[43m \u001b[49m\u001b[38;5;241;43m*\u001b[39;49m\u001b[38;5;241;43m*\u001b[39;49m\u001b[43mkwargs\u001b[49m\u001b[43m)\u001b[49m\n",
      "File \u001b[1;32m~\\AppData\\Local\\Programs\\Python\\Python311\\Lib\\site-packages\\serial\\serialutil.py:244\u001b[0m, in \u001b[0;36mSerialBase.__init__\u001b[1;34m(self, port, baudrate, bytesize, parity, stopbits, timeout, xonxoff, rtscts, write_timeout, dsrdtr, inter_byte_timeout, exclusive, **kwargs)\u001b[0m\n\u001b[0;32m    241\u001b[0m     \u001b[38;5;28;01mraise\u001b[39;00m \u001b[38;5;167;01mValueError\u001b[39;00m(\u001b[38;5;124m'\u001b[39m\u001b[38;5;124munexpected keyword arguments: \u001b[39m\u001b[38;5;132;01m{!r}\u001b[39;00m\u001b[38;5;124m'\u001b[39m\u001b[38;5;241m.\u001b[39mformat(kwargs))\n\u001b[0;32m    243\u001b[0m \u001b[38;5;28;01mif\u001b[39;00m port \u001b[38;5;129;01mis\u001b[39;00m \u001b[38;5;129;01mnot\u001b[39;00m \u001b[38;5;28;01mNone\u001b[39;00m:\n\u001b[1;32m--> 244\u001b[0m     \u001b[38;5;28;43mself\u001b[39;49m\u001b[38;5;241;43m.\u001b[39;49m\u001b[43mopen\u001b[49m\u001b[43m(\u001b[49m\u001b[43m)\u001b[49m\n",
      "File \u001b[1;32m~\\AppData\\Local\\Programs\\Python\\Python311\\Lib\\site-packages\\serial\\serialwin32.py:64\u001b[0m, in \u001b[0;36mSerial.open\u001b[1;34m(self)\u001b[0m\n\u001b[0;32m     62\u001b[0m \u001b[38;5;28;01mif\u001b[39;00m \u001b[38;5;28mself\u001b[39m\u001b[38;5;241m.\u001b[39m_port_handle \u001b[38;5;241m==\u001b[39m win32\u001b[38;5;241m.\u001b[39mINVALID_HANDLE_VALUE:\n\u001b[0;32m     63\u001b[0m     \u001b[38;5;28mself\u001b[39m\u001b[38;5;241m.\u001b[39m_port_handle \u001b[38;5;241m=\u001b[39m \u001b[38;5;28;01mNone\u001b[39;00m    \u001b[38;5;66;03m# 'cause __del__ is called anyway\u001b[39;00m\n\u001b[1;32m---> 64\u001b[0m     \u001b[38;5;28;01mraise\u001b[39;00m SerialException(\u001b[38;5;124m\"\u001b[39m\u001b[38;5;124mcould not open port \u001b[39m\u001b[38;5;132;01m{!r}\u001b[39;00m\u001b[38;5;124m: \u001b[39m\u001b[38;5;132;01m{!r}\u001b[39;00m\u001b[38;5;124m\"\u001b[39m\u001b[38;5;241m.\u001b[39mformat(\u001b[38;5;28mself\u001b[39m\u001b[38;5;241m.\u001b[39mportstr, ctypes\u001b[38;5;241m.\u001b[39mWinError()))\n\u001b[0;32m     66\u001b[0m \u001b[38;5;28;01mtry\u001b[39;00m:\n\u001b[0;32m     67\u001b[0m     \u001b[38;5;28mself\u001b[39m\u001b[38;5;241m.\u001b[39m_overlapped_read \u001b[38;5;241m=\u001b[39m win32\u001b[38;5;241m.\u001b[39mOVERLAPPED()\n",
      "\u001b[1;31mSerialException\u001b[0m: could not open port 'COM3': PermissionError(13, 'Access is denied.', None, 5)"
     ]
    }
   ],
   "source": [
    "monitor  = ArduinoMonitor('COM3', 9600)\n",
    "print(monitor.get_dataframe)"
   ]
  },
  {
   "cell_type": "code",
   "execution_count": 39,
   "id": "fea97730",
   "metadata": {
    "scrolled": true
   },
   "outputs": [
    {
     "name": "stdout",
     "output_type": "stream",
     "text": [
      "     Microseconds  ADC  Voltage\n",
      "0               3  102   0.0205\n",
      "1              26  101   0.0203\n",
      "2              50  140   0.0282\n",
      "3              74  106   0.0214\n",
      "4              97   99   0.0199\n",
      "..            ...  ...      ...\n",
      "995         23689   97   0.0195\n",
      "996         23712   90   0.0181\n",
      "997         23739  101   0.0203\n",
      "998         23762   99   0.0199\n",
      "999         23786   92   0.0185\n",
      "\n",
      "[1000 rows x 3 columns]\n"
     ]
    }
   ],
   "source": [
    "## native Jupyter HTTP capabilities to access local port?\n",
    "response = requests.get('http://192.168.5.41')\n",
    "\n",
    "data = pd.read_csv(StringIO(response.text))\n",
    "print(data)\n"
   ]
  },
  {
   "cell_type": "code",
   "execution_count": 40,
   "id": "998ea3bb",
   "metadata": {
    "scrolled": true
   },
   "outputs": [
    {
     "data": {
      "image/png": "[encoded data removed]",
      "text/plain": [
       "<Figure size 640x480 with 1 Axes>"
      ]
     },
     "metadata": {},
     "output_type": "display_data"
    }
   ],
   "source": [
    "plt.plot(data['Voltage'])\n",
    "plt.ylabel(data['Microseconds'])\n",
    "plt.show()"
   ]
  },
  {
   "cell_type": "code",
   "execution_count": null,
   "id": "c9f4d8cf",
   "metadata": {},
   "outputs": [],
   "source": []
  }
 ],
 "metadata": {
  "kernelspec": {
   "display_name": "Python 3 (ipykernel)",
   "language": "python",
   "name": "python3"
  },
  "language_info": {
   "codemirror_mode": {
    "name": "ipython",
    "version": 3
   },
   "file_extension": ".py",
   "mimetype": "text/x-python",
   "name": "python",
   "nbconvert_exporter": "python",
   "pygments_lexer": "ipython3",
   "version": "3.11.4"
  }
 },
 "nbformat": 4,
 "nbformat_minor": 5
}
